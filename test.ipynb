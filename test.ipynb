{
  "nbformat": 4,
  "nbformat_minor": 0,
  "metadata": {
    "colab": {
      "name": "test",
      "provenance": [],
      "collapsed_sections": [],
      "authorship_tag": "ABX9TyMZ4kUsJwU3XvlNHHtvjrJ4",
      "include_colab_link": true
    },
    "kernelspec": {
      "name": "python3",
      "display_name": "Python 3"
    },
    "language_info": {
      "name": "python"
    }
  },
  "cells": [
    {
      "cell_type": "markdown",
      "metadata": {
        "id": "view-in-github",
        "colab_type": "text"
      },
      "source": [
        "<a href=\"https://colab.research.google.com/github/ConfesorDiaz/Team-4/blob/main/test.ipynb\" target=\"_parent\"><img src=\"https://colab.research.google.com/assets/colab-badge.svg\" alt=\"Open In Colab\"/></a>"
      ]
    },
    {
      "cell_type": "code",
      "metadata": {
        "id": "HfjRNveGb_8w",
        "colab": {
          "base_uri": "https://localhost:8080/"
        },
        "outputId": "98925807-163d-4427-9e42-babc13a7c9b1"
      },
      "source": [
        "!pip install --upgrade --user ortools"
      ],
      "execution_count": 23,
      "outputs": [
        {
          "output_type": "stream",
          "name": "stdout",
          "text": [
            "Requirement already satisfied: ortools in /root/.local/lib/python3.7/site-packages (9.1.9490)\n",
            "Requirement already satisfied: protobuf>=3.18.0 in /root/.local/lib/python3.7/site-packages (from ortools) (3.19.0)\n",
            "Requirement already satisfied: absl-py>=0.13 in /root/.local/lib/python3.7/site-packages (from ortools) (0.15.0)\n",
            "Requirement already satisfied: six in /usr/local/lib/python3.7/dist-packages (from absl-py>=0.13->ortools) (1.15.0)\n"
          ]
        }
      ]
    },
    {
      "cell_type": "code",
      "metadata": {
        "id": "jjXL7VSEcrCf"
      },
      "source": [
        "from ortools.linear_solver import pywraplp\n",
        "\n",
        "\n",
        "#Variables\n",
        "#task[customer, driver]\n",
        "#data\n",
        "#time in seconds example atm but should be 100 different times\n",
        "\n",
        "time = [\n",
        "        [100, 200, 50, 60, 299],\n",
        "        [45, 24, 187, 132, 222],\n",
        "        [241, 58, 82, 91, 101],\n",
        "        [10, 5, 52, 77, 12],\n",
        "]\n",
        "num_customers = len(time)\n",
        "num_drivers = len(time[0])\n",
        "\n",
        "#solver to make the equations work\n",
        "solver = pywraplp.Solver.CreateSolver('SCIP')\n",
        "\n",
        "#x is an array where i is the customer assigned to the driver j\n",
        "x={}\n",
        "for i in range(num_customers):\n",
        "  for j in range(num_drivers):\n",
        "    x[i,j] = solver.IntVar(0, 1, '')\n",
        "\n",
        "#constraint\n",
        "#each customer is assigned one driver\n",
        "for i in range(num_customers):\n",
        "  solver.Add(solver.Sum([x[i,j] for j in range(num_drivers)]) == 1 )\n",
        "\n",
        "#each driver is assigned one customer\n",
        "for j in range(num_drivers):\n",
        "  solver.Add(solver.Sum([x[i,j] for i in range(num_customers)]) == 1 )\n",
        "\n",
        "#goal\n",
        "goal = []\n",
        "for i in range(num_customers):\n",
        "  for j in range(num_drivers):\n",
        "    goal.append(time[i][j]* x[i,j])\n",
        "solver.Minimize(solver.Sum(goal))\n",
        "\n",
        "#getting our solution\n",
        "\n",
        "solution = solver.Solve()\n",
        "\n",
        "#printing our solution\n",
        "if solution == pywraplp.Solver.OPTIMAL or solution == pywraplp.Solver.FEASIBLE:\n",
        "  print('Total time = ', solver.Objective().Value(), '\\n')\n",
        "  for i in range(num_customers):\n",
        "    for j in range(num_drivers):\n",
        "      #here we are making sure x[i,j] is 1 \n",
        "      if x[i,j].solution_value() > 0.5:\n",
        "        print('Customer %d assigned to Driver %d. Time alloted = %d' % \n",
        "              (i, j, time[i][j])) "
      ],
      "execution_count": 25,
      "outputs": []
    },
    {
      "cell_type": "code",
      "metadata": {
        "colab": {
          "base_uri": "https://localhost:8080/"
        },
        "id": "FKYuimFbdW8a",
        "outputId": "36b352ed-017a-4e84-d8ed-084db2b1e340"
      },
      "source": [
        "\n",
        "from ortools.linear_solver import pywraplp\n",
        "\n",
        "\n",
        "def main():\n",
        "  #Variables\n",
        "#task[customer, driver]\n",
        "#data\n",
        "#time in seconds example atm but should be 100 different times\n",
        "  time = [\n",
        "        [100, 200, 50, 60, 299,10,10,10,10,10],\n",
        "        [45, 24, 187, 132, 222,12,12,12,12,12],\n",
        "        [241, 58, 82, 91, 101,13,13,13,13,13],\n",
        "        [10, 5, 52, 77, 12,15,15,15,5,5],\n",
        "        [12,13,1,3,1,2,5,3,10,15],\n",
        "        [15,15,15,15,15,15,15,15,15,15],\n",
        "        [15,15,15,15,15,15,15,15,15,15],\n",
        "        [15,15,15,15,15,15,15,15,15,15],\n",
        "        [15,15,15,15,15,15,15,15,15,15],\n",
        "        [15,15,15,15,15,15,15,15,15,15],\n",
        "  ]\n",
        "  num_customers = len(time)\n",
        "  num_drivers = len(time[0])\n",
        "\n",
        "  #solver to make the equations work\n",
        "  solver = pywraplp.Solver.CreateSolver('SCIP')\n",
        "\n",
        "  #x is an array where i is the customer assigned to the driver j\n",
        "  x = {}\n",
        "  for i in range(num_customers):\n",
        "    for j in range(num_drivers):\n",
        "      x[i,j] = solver.IntVar(0, 1, '')\n",
        "\n",
        "  #constraint\n",
        "  #each customer is assigned one driver\n",
        "  for i in range(num_customers):\n",
        "    solver.Add(solver.Sum([x[i,j] for j in range(num_drivers)]) == 1 )\n",
        "\n",
        "  #each driver is assigned one customer\n",
        "  for j in range(num_drivers):\n",
        "    solver.Add(solver.Sum([x[i, j] for i in range(num_customers)]) == 1 )\n",
        "\n",
        "  #goal\n",
        "  goal = []\n",
        "  for i in range(num_customers):\n",
        "    for j in range(num_drivers):\n",
        "      goal.append(time[i][j] * x[i,j])\n",
        "  solver.Minimize(solver.Sum(goal))\n",
        "\n",
        "  #getting our solution\n",
        "\n",
        "  solution = solver.Solve()\n",
        "\n",
        "  #printing our solution\n",
        "  if solution == pywraplp.Solver.OPTIMAL or solution == pywraplp.Solver.FEASIBLE:\n",
        "    print('Total time = ', solver.Objective().Value(), '\\n')\n",
        "    for i in range(num_customers):\n",
        "      for j in range(num_drivers):\n",
        "        #here we are making sure x[i,j] is 1 \n",
        "        if x[i,j].solution_value() > 0.5:\n",
        "          print('Customer %d assigned to Driver %d. Time alloted = %d' % \n",
        "                (i, j, time[i][j])) \n",
        "\n",
        "   \n",
        "if __name__ == '__main__':\n",
        "    main()\n",
        "\n"
      ],
      "execution_count": 31,
      "outputs": [
        {
          "output_type": "stream",
          "name": "stdout",
          "text": [
            "Total time =  116.0 \n",
            "\n",
            "Customer 0 assigned to Driver 5. Time alloted = 10\n",
            "Customer 1 assigned to Driver 6. Time alloted = 12\n",
            "Customer 2 assigned to Driver 7. Time alloted = 13\n",
            "Customer 3 assigned to Driver 1. Time alloted = 5\n",
            "Customer 4 assigned to Driver 2. Time alloted = 1\n",
            "Customer 5 assigned to Driver 0. Time alloted = 15\n",
            "Customer 6 assigned to Driver 3. Time alloted = 15\n",
            "Customer 7 assigned to Driver 4. Time alloted = 15\n",
            "Customer 8 assigned to Driver 8. Time alloted = 15\n",
            "Customer 9 assigned to Driver 9. Time alloted = 15\n"
          ]
        }
      ]
    }
  ]
}